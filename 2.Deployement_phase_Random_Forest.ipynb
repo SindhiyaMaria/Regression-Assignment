{
 "cells": [
  {
   "cell_type": "code",
   "execution_count": 3,
   "id": "67244346",
   "metadata": {},
   "outputs": [],
   "source": [
    "import pickle #  The import statement is used  to save a model\n",
    "filename=\"finalized_model_random_Forest.sav\""
   ]
  },
  {
   "cell_type": "code",
   "execution_count": 5,
   "id": "ac7a6bcb",
   "metadata": {},
   "outputs": [],
   "source": [
    "loaded_model=pickle.load(open(\"finalized_model_random_Forest.sav\",'rb'))\n",
    "result=loaded_model.predict([[61,29.070,0,0,1]])"
   ]
  },
  {
   "cell_type": "code",
   "execution_count": 6,
   "id": "f8b6a91d",
   "metadata": {},
   "outputs": [
    {
     "data": {
      "text/plain": [
       "array([28286.376808])"
      ]
     },
     "execution_count": 6,
     "metadata": {},
     "output_type": "execute_result"
    }
   ],
   "source": [
    "result"
   ]
  },
  {
   "cell_type": "code",
   "execution_count": null,
   "id": "42b9ab0b",
   "metadata": {},
   "outputs": [],
   "source": []
  }
 ],
 "metadata": {
  "kernelspec": {
   "display_name": "Python 3 (ipykernel)",
   "language": "python",
   "name": "python3"
  },
  "language_info": {
   "codemirror_mode": {
    "name": "ipython",
    "version": 3
   },
   "file_extension": ".py",
   "mimetype": "text/x-python",
   "name": "python",
   "nbconvert_exporter": "python",
   "pygments_lexer": "ipython3",
   "version": "3.9.7"
  }
 },
 "nbformat": 4,
 "nbformat_minor": 5
}
